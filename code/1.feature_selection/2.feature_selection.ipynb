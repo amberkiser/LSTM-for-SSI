{
 "cells": [
  {
   "cell_type": "code",
   "execution_count": null,
   "id": "202d17c5",
   "metadata": {},
   "outputs": [],
   "source": [
    "import pandas as pd\n",
    "from sklearn.feature_selection import SelectKBest, f_classif\n",
    "import pickle"
   ]
  },
  {
   "cell_type": "markdown",
   "id": "83656eb8",
   "metadata": {},
   "source": [
    "# Feature Selection\n",
    "\n",
    "Use ANOVA to find top 50 features."
   ]
  },
  {
   "cell_type": "code",
   "execution_count": null,
   "id": "28ec7ae2",
   "metadata": {},
   "outputs": [],
   "source": [
    "train_data = pd.read_pickle('../../data/train_wide_agg_scaled.pkl')\n",
    "\n",
    "X = train_data.drop(columns=['PT_KEY','SSI'])\n",
    "y = train_data['SSI']"
   ]
  },
  {
   "cell_type": "code",
   "execution_count": null,
   "id": "fbcd5a0a",
   "metadata": {},
   "outputs": [],
   "source": [
    "anova = SelectKBest(f_classif, k='all')\n",
    "X_selected = anova.fit(X, y)"
   ]
  },
  {
   "cell_type": "code",
   "execution_count": null,
   "id": "697af828",
   "metadata": {},
   "outputs": [],
   "source": [
    "anova_scores = pd.DataFrame({'FEATURE': X_selected.feature_names_in_, \n",
    "                             'f_score': X_selected.scores_,\n",
    "                             'p_value': X_selected.pvalues_})"
   ]
  },
  {
   "cell_type": "code",
   "execution_count": null,
   "id": "a16d9e07",
   "metadata": {},
   "outputs": [],
   "source": [
    "keep_columns = anova_scores.sort_values('f_score', ascending=False)[:50]\n",
    "keep_columns = keep_columns['FEATURE'].values"
   ]
  },
  {
   "cell_type": "code",
   "execution_count": null,
   "id": "481c7d93",
   "metadata": {},
   "outputs": [],
   "source": [
    "# with open('../../data/feature_selection_50_columns.pkl', 'wb') as f:\n",
    "#     pickle.dump(keep_columns, f)    "
   ]
  },
  {
   "cell_type": "code",
   "execution_count": null,
   "id": "e8125dab",
   "metadata": {},
   "outputs": [],
   "source": []
  }
 ],
 "metadata": {
  "kernelspec": {
   "display_name": "Python 3 (ipykernel)",
   "language": "python",
   "name": "python3"
  },
  "language_info": {
   "codemirror_mode": {
    "name": "ipython",
    "version": 3
   },
   "file_extension": ".py",
   "mimetype": "text/x-python",
   "name": "python",
   "nbconvert_exporter": "python",
   "pygments_lexer": "ipython3",
   "version": "3.10.4"
  }
 },
 "nbformat": 4,
 "nbformat_minor": 5
}
