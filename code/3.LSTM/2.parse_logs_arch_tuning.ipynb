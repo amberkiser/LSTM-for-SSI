{
 "cells": [
  {
   "cell_type": "code",
   "execution_count": null,
   "id": "16914c48",
   "metadata": {},
   "outputs": [],
   "source": [
    "import re\n",
    "import numpy as np\n",
    "import pandas as pd\n",
    "import scipy.stats as st\n"
   ]
  },
  {
   "cell_type": "markdown",
   "id": "a3292578",
   "metadata": {},
   "source": [
    "# Parse Log Files\n",
    "\n",
    "Get data from log files to identify top performing architecture."
   ]
  },
  {
   "cell_type": "code",
   "execution_count": null,
   "id": "fe84e67a",
   "metadata": {},
   "outputs": [],
   "source": [
    "best_epoch = pd.DataFrame()\n",
    "epoch_metrics = pd.DataFrame()\n",
    "\n",
    "for model_number in range(1, 13): \n",
    "    best_fold_ls = []\n",
    "    best_rep_ls = []\n",
    "    best_epoch_ls = []\n",
    "\n",
    "    fold_ls = []\n",
    "    rep_ls = []\n",
    "    epoch_ls = []\n",
    "    train_ap_ls = []\n",
    "    val_ap_ls = []\n",
    "    train_time_ls = []\n",
    "    val_time_ls = []\n",
    "\n",
    "    with open('logs/architecture_tuning_%d.log' % model_number, 'r') as f:\n",
    "        for line in f:\n",
    "            if re.search('Rep', line):\n",
    "                m1 = re.search('Fold (\\d{1,2}); Rep (\\d)', line)\n",
    "                fold = int(m1.group(1))\n",
    "                rep = int(m1.group(2))\n",
    "\n",
    "            if re.search('EPOCH #(\\d{1,3}): TRAIN AP', line):\n",
    "                m2 = re.search('EPOCH #(\\d{1,4}): TRAIN AP (\\d.\\d+), VAL AP (\\d.\\d+), TRAIN TIME (\\d+)m (\\d+.\\d+)s, VAL TIME (\\d+)m (\\d+.\\d+)s', line)\n",
    "                fold_ls.append(fold)\n",
    "                rep_ls.append(rep)\n",
    "                epoch_ls.append(int(m2.group(1)))\n",
    "                train_ap_ls.append(float(m2.group(2)))\n",
    "                val_ap_ls.append(float(m2.group(3)))\n",
    "                train_time_ls.append(float(m2.group(4)) * 60 + float(m2.group(5)))\n",
    "                val_time_ls.append(float(m2.group(6)) * 60 + float(m2.group(7)))\n",
    "\n",
    "            if re.search('STOPPING', line):\n",
    "                m3 = re.search('EPOCH #(\\d{1,4})', line)\n",
    "                best_fold_ls.append(fold)\n",
    "                best_rep_ls.append(rep)\n",
    "                best_epoch_ls.append(int(m3.group(1)))\n",
    "\n",
    "    best_epoch_temp = pd.DataFrame({'model_number': list(np.repeat([model_number], len(best_fold_ls))),\n",
    "                                    'fold': best_fold_ls,\n",
    "                                    'rep': best_rep_ls,\n",
    "                                    'best_epoch': best_epoch_ls})\n",
    "\n",
    "    epoch_metrics_temp = pd.DataFrame({'model_number': list(np.repeat([model_number], len(fold_ls))),\n",
    "                                       'fold': fold_ls,\n",
    "                                       'rep': rep_ls,\n",
    "                                       'epoch': epoch_ls,\n",
    "                                       'train_ap': train_ap_ls,\n",
    "                                       'val_ap': val_ap_ls,\n",
    "                                       'train_time': train_time_ls,\n",
    "                                       'val_time': val_time_ls})\n",
    "\n",
    "    best_epoch = pd.concat([best_epoch, best_epoch_temp]).reset_index(drop=True)\n",
    "    epoch_metrics = pd.concat([epoch_metrics, epoch_metrics_temp]).reset_index(drop=True)\n"
   ]
  },
  {
   "cell_type": "code",
   "execution_count": null,
   "id": "f586181b",
   "metadata": {},
   "outputs": [],
   "source": [
    "best_epoch['best_epoch_flag'] = 1\n",
    "epoch_metrics = epoch_metrics.merge(best_epoch, how='left', \n",
    "                                    left_on=['model_number', 'fold', 'rep', 'epoch'],\n",
    "                                    right_on=['model_number', 'fold', 'rep', 'best_epoch'])\n",
    "epoch_metrics = epoch_metrics.drop(columns='best_epoch')\n",
    "epoch_metrics['best_epoch_flag'] = epoch_metrics['best_epoch_flag'].fillna(0).astype('int')"
   ]
  },
  {
   "cell_type": "markdown",
   "id": "592b2669",
   "metadata": {},
   "source": [
    "## Investigate to find the top performing architecture\n",
    "\n",
    "Models:\n",
    "\n",
    "<ol>\n",
    "    <li>basic 1 LSTM layer, set n_layers = 1</li>\n",
    "    <li>2 LSTM layers, set n_layers = 2</li>\n",
    "    <li>2 LSTM layers with 0.5 dropout, set n_layers = 2</li>\n",
    "    <li>1 LSTM layer, dropout layer, set n_layers = 1</li>\n",
    "    <li>2 LSTM layers, dropout layer, set n_layers = 2</li>\n",
    "    <li>2 LSTM layers with 0.5 dropout, dropout layer, set n_layers=2</li>\n",
    "    <li>#1 with gradient clipping</li>\n",
    "    <li>#2 with gradient clipping</li>\n",
    "    <li>#3 with gradient clipping</li>\n",
    "    <li>#4 with gradient clipping</li>\n",
    "    <li>#5 with gradient clipping</li>\n",
    "    <li>#6 with gradient clipping</li>\n",
    "</ol>"
   ]
  },
  {
   "cell_type": "code",
   "execution_count": null,
   "id": "b39ec094",
   "metadata": {},
   "outputs": [],
   "source": [
    "# From the best epochs - average val_ap for each number of features and model number\n",
    "architecture_metrics = pd.DataFrame()\n",
    "for model_number in range(1, 13):\n",
    "    temp = epoch_metrics.loc[(epoch_metrics['best_epoch_flag'] == 1) & \n",
    "                             (epoch_metrics['model_number'] == model_number)]\n",
    "    val_ap_data = temp['val_ap'].values\n",
    "    ci = st.t.interval(alpha=0.95, df=len(val_ap_data)-1, loc=np.mean(val_ap_data), scale=st.sem(val_ap_data))\n",
    "\n",
    "    architecture_metrics = pd.concat([architecture_metrics, \n",
    "                                      pd.DataFrame({'model_number': [model_number], \n",
    "                                                    'mean_val_ap': [np.mean(val_ap_data)], \n",
    "                                                    'val_ap_low': [ci[0]], \n",
    "                                                    'val_ap_high': [ci[1]]})])"
   ]
  },
  {
   "cell_type": "code",
   "execution_count": null,
   "id": "fb3ba9b2",
   "metadata": {},
   "outputs": [],
   "source": [
    "architecture_metrics.sort_values('mean_val_ap', ascending=False)"
   ]
  },
  {
   "cell_type": "code",
   "execution_count": null,
   "id": "3dd06301",
   "metadata": {},
   "outputs": [],
   "source": [
    "# training time & epochs for each number of features, model number, fold, and rep\n",
    "epoch_metrics['total_time'] = epoch_metrics['train_time'] + epoch_metrics['val_time']\n",
    "\n",
    "time_data = epoch_metrics[['model_number', 'fold', 'rep', 'total_time']].groupby(['model_number', 'fold', 'rep']).sum().reset_index()\n",
    "epochs_data = epoch_metrics[['model_number', 'fold', 'rep', 'epoch']].groupby(['model_number', 'fold', 'rep']).max().reset_index()\n",
    "\n",
    "time_epochs_data = time_data.merge(epochs_data, how='inner', on=['model_number', 'fold', 'rep'])\n",
    "training_time_metrics = time_epochs_data.groupby(['model_number']).mean().reset_index()"
   ]
  },
  {
   "cell_type": "code",
   "execution_count": null,
   "id": "aa8d45fd",
   "metadata": {},
   "outputs": [],
   "source": [
    "training_time_metrics.sort_values('total_time')"
   ]
  },
  {
   "cell_type": "markdown",
   "id": "1b2cbd41",
   "metadata": {},
   "source": [
    "### Decision: Use model 2 (2 LSTM layers)"
   ]
  },
  {
   "cell_type": "code",
   "execution_count": null,
   "id": "cab6a7de",
   "metadata": {},
   "outputs": [],
   "source": []
  }
 ],
 "metadata": {
  "kernelspec": {
   "display_name": "Python 3 (ipykernel)",
   "language": "python",
   "name": "python3"
  },
  "language_info": {
   "codemirror_mode": {
    "name": "ipython",
    "version": 3
   },
   "file_extension": ".py",
   "mimetype": "text/x-python",
   "name": "python",
   "nbconvert_exporter": "python",
   "pygments_lexer": "ipython3",
   "version": "3.10.4"
  }
 },
 "nbformat": 4,
 "nbformat_minor": 5
}
